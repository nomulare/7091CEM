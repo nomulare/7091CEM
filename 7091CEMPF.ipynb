{
 "cells": [
  {
   "cell_type": "markdown",
   "id": "3a532d93",
   "metadata": {},
   "source": [
    "# PREDICTING TRIP DURATION USING MACHINE LEARNING"
   ]
  },
  {
   "cell_type": "markdown",
   "id": "cee90366",
   "metadata": {},
   "source": [
    "## Introduction"
   ]
  },
  {
   "cell_type": "markdown",
   "id": "d52cb1f2",
   "metadata": {},
   "source": [
    "Machine learning systems are systems built around data to help in either understanding hidden parts or making predictions. These systems are either supervised or unsupervised. The problem domain determines the type of systems to implement in a given scenario. The type of the outcome variable also dictates whether to implement regression-based systems or classification-based systems.\n",
    "\n",
    "These systems can be applied in various industries like the banking industry to predict churn rate, they can be employed in the stock exchange to predict stock prices based on historical data, they can be used in the health-care industry to predict the occurrence of a disease like heart disease based on the characteristics of a patient, they can be used to understand complex relations in massive data collected by meteorological department among other applications.\n",
    "\n",
    "The quality of these systems largely depends on the quality of the data used to train them. Therefore, it’s paramount to ensure that the data sets used in the building of these systems is of high quality. Proper checks should be done before doing the actual construction of the model.\n",
    "\n",
    "This report will cover supervised machine learning methods because of the nature of the data set used.\n"
   ]
  },
  {
   "cell_type": "markdown",
   "id": "01d37454",
   "metadata": {},
   "source": [
    "## Big Data for Machine Learning"
   ]
  },
  {
   "cell_type": "markdown",
   "id": "109649fd",
   "metadata": {},
   "source": [
    "**Data description and pre-processing considerations**"
   ]
  },
  {
   "cell_type": "markdown",
   "id": "604bad00",
   "metadata": {},
   "source": [
    "The data set for this project was obtained from ‘https://www.kaggle.com/datasets/fatihb/citibike-sampled-data-2013-2017’\n",
    "The data set contains information on Citi Bike users/customers in relation to how long they take in riding the bike, the start and end stations among other key information like their gender and year of birth. This kind of data set is suitable for the task of machine learning because it has the structure required by most of the machine learning algorithms.\n",
    "\n",
    "The data set contains 473556 observations and 16 columns or features. The number of observations is almost 500,000 therefore, it can be considered as big data. The main columns of interest in the context of machine learning will be trip duration, user type, age of the user, and gender of the user. The target variable is the trip duration.\n",
    "\n",
    "Other columns in the data set are; tripduration, starttime, stoptime, start_station_id, start_station_name, start_station_latitude, start_station_longitude, end_station_id, end_station_name, end_station_latitude, end_station_longitude_, bikeid, usertype, birth_year, gender and customer_plan.\n",
    "\n",
    "Machine learning systems are broadly classified into supervised and unsupervised. Supervised learning systems refer to systems where we observe an outcome variable for instance trip duration while in un-supervised systems, there is no outcome variable to observe. The intent is to understand patterns rather than prediction.\n",
    "\n",
    "For supervised systems, the nature of the outcome variable determines whether classification methods or regression methods should be performed. When the outcome variable is continuous, regression techniques are carried out while when the outcome variable is categorical/binary then classification techniques are conducted.\n",
    "The current data set is appropriate for regression-based machine learning systems because there is a supervising outcome variable (trip duration) which is continuous.\n",
    "\n",
    "Pre-processing is an important preliminary stage in any machine learning system. The quality of the available features should be thoroughly checked prior to fitting any statistical models. Missing data and other data inconsistencies should be addressed. New columns can be created based on the existing ones and certain columns can be combined to form new ones.\n",
    "The scale of measurements should also be put into consideration. If the variables differ so much in their scales then proper scaling should be done prior to implementing any machine learning system. The only pre-processing needed is the creation of age column given birth year and the current year and conversion of character columns into their numeric equivalent and since age and the other two variables will be on different scales, scaling of features needs to be performed. Missing values will be removed. In instances where removing missing values can lead to significant loss of data, various imputation methods have been postulated.\n",
    "\n",
    "Common imputation methods include replacing missing values with the average of the non-missing values. Other data anomalies like outliers can also be looked into if their presence is likely to bias the results of the learning method. Outliers are values that are very extreme on either end and therefore not likely to be associated with the rest of the values. There are sometimes called influential points.\n"
   ]
  },
  {
   "cell_type": "markdown",
   "id": "577db4bd",
   "metadata": {},
   "source": [
    "## Acquiring data and pre-processing"
   ]
  },
  {
   "cell_type": "code",
   "execution_count": 147,
   "id": "5e378ed1",
   "metadata": {},
   "outputs": [
    {
     "data": {
      "text/plain": [
       "(473556, 16)"
      ]
     },
     "execution_count": 147,
     "metadata": {},
     "output_type": "execute_result"
    }
   ],
   "source": [
    "import os\n",
    "import pandas as pd\n",
    "import numpy as np\n",
    "import seaborn as sns\n",
    "import datetime\n",
    "from sklearn.model_selection import train_test_split\n",
    "from sklearn.preprocessing import StandardScaler\n",
    "\n",
    "#options\n",
    "np.set_printoptions(precision=2)\n",
    "\n",
    "os.chdir(\"E:/Tasks/Bon/task1\")\n",
    "\n",
    "citibike = pd.read_csv('citibike-trips.csv')\n",
    "\n",
    "citibike.shape"
   ]
  },
  {
   "cell_type": "code",
   "execution_count": 117,
   "id": "a384814e",
   "metadata": {},
   "outputs": [
    {
     "name": "stdout",
     "output_type": "stream",
     "text": [
      "   tripduration  birth_year  gender_female  gender_male  usertype_Customer  \\\n",
      "0          2319      1972.0              0            1                  0   \n",
      "1           313      1968.0              1            0                  0   \n",
      "2           798      1991.0              0            1                  0   \n",
      "\n",
      "   usertype_Subscriber  \n",
      "0                    1  \n",
      "1                    1  \n",
      "2                    1  \n"
     ]
    }
   ],
   "source": [
    "#change character columns to numeric using one-hot encoding\n",
    "\n",
    "citibike2 = citibike[['tripduration','gender','usertype','birth_year']]\n",
    "citibike2 = citibike2[citibike.gender.isin(['female','male'])]\n",
    "citibike2 = citibike2.dropna()\n",
    "\n",
    "\n",
    "clean_df = pd.get_dummies(citibike2, columns = ['gender', 'usertype'])\n",
    "\n",
    "print(clean_df.head(3))"
   ]
  },
  {
   "cell_type": "code",
   "execution_count": 142,
   "id": "b3756fde",
   "metadata": {},
   "outputs": [
    {
     "data": {
      "text/plain": [
       "tripduration           0\n",
       "birth_year             0\n",
       "gender_female          0\n",
       "gender_male            0\n",
       "usertype_Customer      0\n",
       "usertype_Subscriber    0\n",
       "age                    0\n",
       "dtype: int64"
      ]
     },
     "execution_count": 142,
     "metadata": {},
     "output_type": "execute_result"
    }
   ],
   "source": [
    "#check that missing values have been exclude\n",
    "\n",
    "clean_df.isna().sum()"
   ]
  },
  {
   "cell_type": "code",
   "execution_count": 120,
   "id": "4d9a529a",
   "metadata": {},
   "outputs": [
    {
     "data": {
      "text/html": [
       "<div>\n",
       "<style scoped>\n",
       "    .dataframe tbody tr th:only-of-type {\n",
       "        vertical-align: middle;\n",
       "    }\n",
       "\n",
       "    .dataframe tbody tr th {\n",
       "        vertical-align: top;\n",
       "    }\n",
       "\n",
       "    .dataframe thead th {\n",
       "        text-align: right;\n",
       "    }\n",
       "</style>\n",
       "<table border=\"1\" class=\"dataframe\">\n",
       "  <thead>\n",
       "    <tr style=\"text-align: right;\">\n",
       "      <th></th>\n",
       "      <th>tripduration</th>\n",
       "      <th>birth_year</th>\n",
       "      <th>gender_female</th>\n",
       "      <th>gender_male</th>\n",
       "      <th>usertype_Customer</th>\n",
       "      <th>usertype_Subscriber</th>\n",
       "      <th>age</th>\n",
       "    </tr>\n",
       "  </thead>\n",
       "  <tbody>\n",
       "    <tr>\n",
       "      <th>0</th>\n",
       "      <td>2319</td>\n",
       "      <td>1972.0</td>\n",
       "      <td>0</td>\n",
       "      <td>1</td>\n",
       "      <td>0</td>\n",
       "      <td>1</td>\n",
       "      <td>51</td>\n",
       "    </tr>\n",
       "    <tr>\n",
       "      <th>1</th>\n",
       "      <td>313</td>\n",
       "      <td>1968.0</td>\n",
       "      <td>1</td>\n",
       "      <td>0</td>\n",
       "      <td>0</td>\n",
       "      <td>1</td>\n",
       "      <td>55</td>\n",
       "    </tr>\n",
       "    <tr>\n",
       "      <th>2</th>\n",
       "      <td>798</td>\n",
       "      <td>1991.0</td>\n",
       "      <td>0</td>\n",
       "      <td>1</td>\n",
       "      <td>0</td>\n",
       "      <td>1</td>\n",
       "      <td>32</td>\n",
       "    </tr>\n",
       "  </tbody>\n",
       "</table>\n",
       "</div>"
      ],
      "text/plain": [
       "   tripduration  birth_year  gender_female  gender_male  usertype_Customer  \\\n",
       "0          2319      1972.0              0            1                  0   \n",
       "1           313      1968.0              1            0                  0   \n",
       "2           798      1991.0              0            1                  0   \n",
       "\n",
       "   usertype_Subscriber  age  \n",
       "0                    1   51  \n",
       "1                    1   55  \n",
       "2                    1   32  "
      ]
     },
     "execution_count": 120,
     "metadata": {},
     "output_type": "execute_result"
    }
   ],
   "source": [
    "#create the age column\n",
    "\n",
    "clean_df['age'] = datetime.date.today().year - clean_df.birth_year\n",
    "clean_df['age'] = clean_df['age'].astype(int)\n",
    "\n",
    "clean_df.head(3)"
   ]
  },
  {
   "cell_type": "code",
   "execution_count": 204,
   "id": "f77ec080",
   "metadata": {},
   "outputs": [],
   "source": [
    "#create the train and test sets and do feature scaling\n",
    "\n",
    "X = clean_df[['age','gender_female','gender_male','usertype_Customer','usertype_Subscriber']].values\n",
    "y = clean_df['tripduration'].values\n",
    "\n",
    "\n",
    "X_train, X_test, y_train, y_test = train_test_split(X, y, test_size = 2/3, random_state = 0)"
   ]
  },
  {
   "cell_type": "code",
   "execution_count": 205,
   "id": "1a5a7ad6",
   "metadata": {},
   "outputs": [],
   "source": [
    "# Feature scaling\n",
    "\n",
    "sc = StandardScaler()\n",
    "X_train = sc.fit_transform(X_train)\n",
    "X_test  = sc.transform(X_test)"
   ]
  },
  {
   "cell_type": "markdown",
   "id": "c50cdeaf",
   "metadata": {},
   "source": [
    "## Architecture"
   ]
  },
  {
   "cell_type": "markdown",
   "id": "e9ae022d",
   "metadata": {},
   "source": [
    "The machine learning architecture defines the various components involved in the machine learning life-cycle and consists of the major steps being carried out in the acquisition of raw data, it’s transformation into training data sets capable for enabling the decision making process.\n",
    "\n",
    "This report follows five steps in its architecture. The five steps are data acquisition, data pre-processing, data modeling, execution and deployment of the system. Feature engineering is also a core component of the architecture, though at times it’s combined with data pre-processing. Feature engineering involves creation of new various from the existing ones by applying specific computations. These new derived variables can be used as features in the model instead of using the original values in the data set. A good example is deriving someone’s age from the birth date provided in the original data. Age may be more appropriate to be used a feature instead of using date of birth directly.\n",
    "\n",
    "The architecture of this system stems from a broader system of regression techniques. The design considerations considered includes accuracy/root mean square error, usability and consistency with other commonly available systems. This system can be applied in the sports industry to predict duration time taken by bike users based on for example their age.\n",
    "\n",
    "A number of regression systems have been postulated in the literature; these includes, the multiple linear regression, the polynomial regression, the support vector regression, the decision tree regression, the random forest regression among others.\n",
    "Various regression models will be tried on the data and the best one will be selected based on root mean square error.\n"
   ]
  },
  {
   "cell_type": "markdown",
   "id": "2fee104e",
   "metadata": {},
   "source": [
    "## Visualization of the data"
   ]
  },
  {
   "cell_type": "markdown",
   "id": "92367ee8",
   "metadata": {},
   "source": [
    "‘A picture is worth more than a thousand words’.\n",
    "\n",
    "Visualizations are key in uncovering patterns in any given data set.\n",
    "Visualizations can reveal hidden patterns in the data and they can also reveal associations between variables. This can be useful at a later stages like the modeling stage.\n",
    "\n",
    "The nature of a variable determines the type of visualization that best presents it. Continuous variables like trip duration are best presented with histograms while categorical variables like gender are best presented using bar charts.\n"
   ]
  },
  {
   "cell_type": "markdown",
   "id": "7853120a",
   "metadata": {},
   "source": [
    "**Distribution of trip duration**"
   ]
  },
  {
   "cell_type": "markdown",
   "id": "92ff044b",
   "metadata": {},
   "source": [
    "Because of the highly skewed nature of the trip duration variable, its logarithm transformation is used for visualization purposes."
   ]
  },
  {
   "cell_type": "code",
   "execution_count": 160,
   "id": "fbae76e4",
   "metadata": {},
   "outputs": [
    {
     "data": {
      "text/html": [
       "<div>\n",
       "<style scoped>\n",
       "    .dataframe tbody tr th:only-of-type {\n",
       "        vertical-align: middle;\n",
       "    }\n",
       "\n",
       "    .dataframe tbody tr th {\n",
       "        vertical-align: top;\n",
       "    }\n",
       "\n",
       "    .dataframe thead th {\n",
       "        text-align: right;\n",
       "    }\n",
       "</style>\n",
       "<table border=\"1\" class=\"dataframe\">\n",
       "  <thead>\n",
       "    <tr style=\"text-align: right;\">\n",
       "      <th></th>\n",
       "      <th>tripduration</th>\n",
       "    </tr>\n",
       "  </thead>\n",
       "  <tbody>\n",
       "    <tr>\n",
       "      <th>count</th>\n",
       "      <td>416667.00</td>\n",
       "    </tr>\n",
       "    <tr>\n",
       "      <th>mean</th>\n",
       "      <td>814.98</td>\n",
       "    </tr>\n",
       "    <tr>\n",
       "      <th>std</th>\n",
       "      <td>5434.33</td>\n",
       "    </tr>\n",
       "    <tr>\n",
       "      <th>min</th>\n",
       "      <td>60.00</td>\n",
       "    </tr>\n",
       "    <tr>\n",
       "      <th>25%</th>\n",
       "      <td>368.00</td>\n",
       "    </tr>\n",
       "    <tr>\n",
       "      <th>50%</th>\n",
       "      <td>587.00</td>\n",
       "    </tr>\n",
       "    <tr>\n",
       "      <th>75%</th>\n",
       "      <td>955.00</td>\n",
       "    </tr>\n",
       "    <tr>\n",
       "      <th>max</th>\n",
       "      <td>1969746.00</td>\n",
       "    </tr>\n",
       "  </tbody>\n",
       "</table>\n",
       "</div>"
      ],
      "text/plain": [
       "       tripduration\n",
       "count     416667.00\n",
       "mean         814.98\n",
       "std         5434.33\n",
       "min           60.00\n",
       "25%          368.00\n",
       "50%          587.00\n",
       "75%          955.00\n",
       "max      1969746.00"
      ]
     },
     "execution_count": 160,
     "metadata": {},
     "output_type": "execute_result"
    }
   ],
   "source": [
    "pd.options.display.float_format = '{:.2f}'.format\n",
    "clean_df[['tripduration']].describe()"
   ]
  },
  {
   "cell_type": "code",
   "execution_count": 148,
   "id": "77bbb5b1",
   "metadata": {},
   "outputs": [
    {
     "data": {
      "image/png": "[encoded data removed]",
      "text/plain": [
       "<Figure size 640x480 with 1 Axes>"
      ]
     },
     "metadata": {},
     "output_type": "display_data"
    }
   ],
   "source": [
    "clean_df['log_duration'] = np.log10(clean_df['tripduration'])\n",
    "\n",
    "sns.histplot(data = clean_df, x = \"log_duration\").set(title = \"Distribution for trip duration\");"
   ]
  },
  {
   "cell_type": "markdown",
   "id": "1cd3c08d",
   "metadata": {},
   "source": [
    "The minimum duration time is 60 mins, the maximum duration time is 1,969,746 minutes, the median duration time is 633 minutes and the average duration time is 944.2 minutes."
   ]
  },
  {
   "cell_type": "markdown",
   "id": "110672d2",
   "metadata": {},
   "source": [
    "**Distribution of gender**"
   ]
  },
  {
   "cell_type": "code",
   "execution_count": 152,
   "id": "db2eaf43",
   "metadata": {},
   "outputs": [
    {
     "data": {
      "text/plain": [
       "male      315800\n",
       "female    100867\n",
       "Name: gender, dtype: int64"
      ]
     },
     "execution_count": 152,
     "metadata": {},
     "output_type": "execute_result"
    }
   ],
   "source": [
    "citibike2['gender'].value_counts()"
   ]
  },
  {
   "cell_type": "code",
   "execution_count": 154,
   "id": "7362c2b2",
   "metadata": {},
   "outputs": [
    {
     "data": {
      "image/png": "[encoded data removed]",
      "text/plain": [
       "<Figure size 640x480 with 1 Axes>"
      ]
     },
     "metadata": {},
     "output_type": "display_data"
    }
   ],
   "source": [
    "citibike2['gender'].value_counts().sort_values().plot(kind = 'bar').set(title = \"Distribution for Gender\");"
   ]
  },
  {
   "cell_type": "markdown",
   "id": "b031bfa0",
   "metadata": {},
   "source": [
    "A total of 100,871 (21.3%) users were females and a total of 315,807 (66.69%) users were males. 56,878 (12.01%) users did not reveal their gender. In general there are more male bike users as compared to female bike users."
   ]
  },
  {
   "cell_type": "markdown",
   "id": "6911ffc1",
   "metadata": {},
   "source": [
    "**Distribution of user type**"
   ]
  },
  {
   "cell_type": "code",
   "execution_count": 155,
   "id": "073b34ae",
   "metadata": {},
   "outputs": [
    {
     "data": {
      "text/plain": [
       "Subscriber    413259\n",
       "Customer        3408\n",
       "Name: usertype, dtype: int64"
      ]
     },
     "execution_count": 155,
     "metadata": {},
     "output_type": "execute_result"
    }
   ],
   "source": [
    "citibike2['usertype'].value_counts()"
   ]
  },
  {
   "cell_type": "code",
   "execution_count": 156,
   "id": "0233263f",
   "metadata": {},
   "outputs": [
    {
     "data": {
      "image/png": "[encoded data removed]",
      "text/plain": [
       "<Figure size 640x480 with 1 Axes>"
      ]
     },
     "metadata": {},
     "output_type": "display_data"
    }
   ],
   "source": [
    "citibike2['usertype'].value_counts().sort_values().plot(kind = 'bar').set(title = \"Distribution for User type\");"
   ]
  },
  {
   "cell_type": "markdown",
   "id": "b904b1d6",
   "metadata": {},
   "source": [
    "A total of 57,086 (12.05%) users are customers while a total of 416,470 (87.95%) users are subscribers. In general, there are more subscribers than customers among bike users."
   ]
  },
  {
   "cell_type": "markdown",
   "id": "25935273",
   "metadata": {},
   "source": [
    "## Machine learning System Application"
   ]
  },
  {
   "cell_type": "markdown",
   "id": "a5383b55",
   "metadata": {},
   "source": [
    "**Multiple linear regression**"
   ]
  },
  {
   "cell_type": "markdown",
   "id": "5cdc847e",
   "metadata": {},
   "source": [
    "Multiple linear regression is the most prevalent technique used to predict a numeric continuous outcome given multiple features/independent variables.\n",
    "\n",
    "Its a natural extension of the simple linear regression model which uses only one independent variable to predict a dependent variable. The parameters are estimated based on the method of least squares. The significance of these parameter estimates are usually assessed based on p-values given a certain level of significance. If the p-value of a particular estimate is less than the provided significance level then its concluded that the estimate is statistically significant.\n",
    "\n",
    "To be able to compute the root mean square and evaluate the performance of a regression model, it’s prudent to split the available data into training and test data sets. This eliminates bias as the model is built and tested on different sets of data."
   ]
  },
  {
   "cell_type": "code",
   "execution_count": 199,
   "id": "3af26740",
   "metadata": {},
   "outputs": [
    {
     "data": {
      "text/html": [
       "<table class=\"simpletable\">\n",
       "<caption>OLS Regression Results</caption>\n",
       "<tr>\n",
       "  <th>Dep. Variable:</th>      <td>tripduration</td>   <th>  R-squared:         </th>  <td>   0.002</td>  \n",
       "</tr>\n",
       "<tr>\n",
       "  <th>Model:</th>                   <td>OLS</td>       <th>  Adj. R-squared:    </th>  <td>   0.002</td>  \n",
       "</tr>\n",
       "<tr>\n",
       "  <th>Method:</th>             <td>Least Squares</td>  <th>  F-statistic:       </th>  <td>   227.0</td>  \n",
       "</tr>\n",
       "<tr>\n",
       "  <th>Date:</th>             <td>Sun, 09 Apr 2023</td> <th>  Prob (F-statistic):</th>  <td>3.47e-147</td> \n",
       "</tr>\n",
       "<tr>\n",
       "  <th>Time:</th>                 <td>19:46:47</td>     <th>  Log-Likelihood:    </th> <td>-4.1744e+06</td>\n",
       "</tr>\n",
       "<tr>\n",
       "  <th>No. Observations:</th>      <td>416667</td>      <th>  AIC:               </th>  <td>8.349e+06</td> \n",
       "</tr>\n",
       "<tr>\n",
       "  <th>Df Residuals:</th>          <td>416663</td>      <th>  BIC:               </th>  <td>8.349e+06</td> \n",
       "</tr>\n",
       "<tr>\n",
       "  <th>Df Model:</th>              <td>     3</td>      <th>                     </th>      <td> </td>     \n",
       "</tr>\n",
       "<tr>\n",
       "  <th>Covariance Type:</th>      <td>nonrobust</td>    <th>                     </th>      <td> </td>     \n",
       "</tr>\n",
       "</table>\n",
       "<table class=\"simpletable\">\n",
       "<tr>\n",
       "           <td></td>              <th>coef</th>     <th>std err</th>      <th>t</th>      <th>P>|t|</th>  <th>[0.025</th>    <th>0.975]</th>  \n",
       "</tr>\n",
       "<tr>\n",
       "  <th>const</th>               <td>  974.0431</td> <td>   28.047</td> <td>   34.729</td> <td> 0.000</td> <td>  919.071</td> <td> 1029.015</td>\n",
       "</tr>\n",
       "<tr>\n",
       "  <th>age</th>                 <td>    1.1695</td> <td>    0.727</td> <td>    1.610</td> <td> 0.107</td> <td>   -0.255</td> <td>    2.593</td>\n",
       "</tr>\n",
       "<tr>\n",
       "  <th>gender_female</th>       <td>  551.7462</td> <td>   17.400</td> <td>   31.710</td> <td> 0.000</td> <td>  517.643</td> <td>  585.849</td>\n",
       "</tr>\n",
       "<tr>\n",
       "  <th>gender_male</th>         <td>  422.2969</td> <td>   16.860</td> <td>   25.048</td> <td> 0.000</td> <td>  389.252</td> <td>  455.342</td>\n",
       "</tr>\n",
       "<tr>\n",
       "  <th>usertype_Customer</th>   <td> 1659.2697</td> <td>   58.499</td> <td>   28.364</td> <td> 0.000</td> <td> 1544.614</td> <td> 1773.925</td>\n",
       "</tr>\n",
       "<tr>\n",
       "  <th>usertype_Subscriber</th> <td> -685.2266</td> <td>   36.670</td> <td>  -18.687</td> <td> 0.000</td> <td> -757.098</td> <td> -613.355</td>\n",
       "</tr>\n",
       "</table>\n",
       "<table class=\"simpletable\">\n",
       "<tr>\n",
       "  <th>Omnibus:</th>       <td>2120442.756</td> <th>  Durbin-Watson:     </th>      <td>   1.999</td>     \n",
       "</tr>\n",
       "<tr>\n",
       "  <th>Prob(Omnibus):</th>   <td> 0.000</td>    <th>  Jarque-Bera (JB):  </th> <td>84748093523286.125</td>\n",
       "</tr>\n",
       "<tr>\n",
       "  <th>Skew:</th>            <td>229.900</td>   <th>  Prob(JB):          </th>      <td>    0.00</td>     \n",
       "</tr>\n",
       "<tr>\n",
       "  <th>Kurtosis:</th>       <td>69869.121</td>  <th>  Cond. No.          </th>      <td>2.09e+18</td>     \n",
       "</tr>\n",
       "</table><br/><br/>Notes:<br/>[1] Standard Errors assume that the covariance matrix of the errors is correctly specified.<br/>[2] The smallest eigenvalue is 2.11e-28. This might indicate that there are<br/>strong multicollinearity problems or that the design matrix is singular."
      ],
      "text/plain": [
       "<class 'statsmodels.iolib.summary.Summary'>\n",
       "\"\"\"\n",
       "                            OLS Regression Results                            \n",
       "==============================================================================\n",
       "Dep. Variable:           tripduration   R-squared:                       0.002\n",
       "Model:                            OLS   Adj. R-squared:                  0.002\n",
       "Method:                 Least Squares   F-statistic:                     227.0\n",
       "Date:                Sun, 09 Apr 2023   Prob (F-statistic):          3.47e-147\n",
       "Time:                        19:46:47   Log-Likelihood:            -4.1744e+06\n",
       "No. Observations:              416667   AIC:                         8.349e+06\n",
       "Df Residuals:                  416663   BIC:                         8.349e+06\n",
       "Df Model:                           3                                         \n",
       "Covariance Type:            nonrobust                                         \n",
       "=======================================================================================\n",
       "                          coef    std err          t      P>|t|      [0.025      0.975]\n",
       "---------------------------------------------------------------------------------------\n",
       "const                 974.0431     28.047     34.729      0.000     919.071    1029.015\n",
       "age                     1.1695      0.727      1.610      0.107      -0.255       2.593\n",
       "gender_female         551.7462     17.400     31.710      0.000     517.643     585.849\n",
       "gender_male           422.2969     16.860     25.048      0.000     389.252     455.342\n",
       "usertype_Customer    1659.2697     58.499     28.364      0.000    1544.614    1773.925\n",
       "usertype_Subscriber  -685.2266     36.670    -18.687      0.000    -757.098    -613.355\n",
       "==============================================================================\n",
       "Omnibus:                  2120442.756   Durbin-Watson:                   1.999\n",
       "Prob(Omnibus):                  0.000   Jarque-Bera (JB):   84748093523286.125\n",
       "Skew:                         229.900   Prob(JB):                         0.00\n",
       "Kurtosis:                   69869.121   Cond. No.                     2.09e+18\n",
       "==============================================================================\n",
       "\n",
       "Notes:\n",
       "[1] Standard Errors assume that the covariance matrix of the errors is correctly specified.\n",
       "[2] The smallest eigenvalue is 2.11e-28. This might indicate that there are\n",
       "strong multicollinearity problems or that the design matrix is singular.\n",
       "\"\"\""
      ]
     },
     "execution_count": 199,
     "metadata": {},
     "output_type": "execute_result"
    }
   ],
   "source": [
    "#Use stats model to get parameter estimates\n",
    "\n",
    "import statsmodels.api as sm \n",
    "\n",
    "X2 = clean_df[['age','gender_female','gender_male','usertype_Customer','usertype_Subscriber']]\n",
    "y2 = clean_df['tripduration']\n",
    "\n",
    "X2   = sm.add_constant(X2) \n",
    "est = sm.OLS(y2, X2).fit() \n",
    "est.summary()"
   ]
  },
  {
   "cell_type": "markdown",
   "id": "d359c127",
   "metadata": {},
   "source": [
    "\tThe effect of age is not statistically significant and positive (beta = -1.1695, p < .001).\n",
    "\tThe effect of usertype - Customer is statistically significant and positive (beta = 1659.2697, p < .001).\n",
    "\tThe effect of usertype - Subscriber is statistically significant and negative (beta = -685.2266, p <.001).\n",
    "    The effect of gender - male is statistically significant and positive (beta = 422.2969, p < .001).\n",
    "    The effect of gender - female is statistically significant and positive (beta = 551.7462, p < .001).\n",
    "\n",
    "The value of adjusted $R^2$ is 0.002. This explains the amount of variation explained by the model. This means that multiple linear regression model explains .2% which is very weak so other models are considered below.\n"
   ]
  },
  {
   "cell_type": "code",
   "execution_count": 206,
   "id": "ea9c373a",
   "metadata": {},
   "outputs": [
    {
     "data": {
      "text/plain": [
       "LinearRegression()"
      ]
     },
     "execution_count": 206,
     "metadata": {},
     "output_type": "execute_result"
    }
   ],
   "source": [
    "#use sckit learn in order to consistent with other machine learning systems\n",
    "\n",
    "from sklearn.linear_model import LinearRegression\n",
    "regressor = LinearRegression()\n",
    "regressor.fit(X_train, y_train)"
   ]
  },
  {
   "cell_type": "code",
   "execution_count": 207,
   "id": "e08d857e",
   "metadata": {},
   "outputs": [
    {
     "name": "stdout",
     "output_type": "stream",
     "text": [
      "[[758.4   86.  ]\n",
      " [878.13 565.  ]\n",
      " [758.09 457.  ]\n",
      " ...\n",
      " [758.54 227.  ]\n",
      " [758.75 193.  ]\n",
      " [759.31 600.  ]]\n"
     ]
    }
   ],
   "source": [
    "y_pred = regressor.predict(X_test)\n",
    "np.set_printoptions(precision=2)\n",
    "print(np.concatenate((y_pred.reshape(len(y_pred),1), y_test.reshape(len(y_test),1)),1))"
   ]
  },
  {
   "cell_type": "code",
   "execution_count": 208,
   "id": "3e8770cf",
   "metadata": {},
   "outputs": [
    {
     "data": {
      "text/plain": [
       "4913.29"
      ]
     },
     "execution_count": 208,
     "metadata": {},
     "output_type": "execute_result"
    }
   ],
   "source": [
    "from sklearn.metrics import mean_squared_error\n",
    "\n",
    "rms = round(mean_squared_error(y_test, y_pred, squared=False),2)\n",
    "rms"
   ]
  },
  {
   "cell_type": "markdown",
   "id": "0558e0de",
   "metadata": {},
   "source": [
    "The root mean square value is 4913.29"
   ]
  },
  {
   "cell_type": "markdown",
   "id": "04663618",
   "metadata": {},
   "source": [
    "**Decision tree regression**"
   ]
  },
  {
   "cell_type": "markdown",
   "id": "87de7ba8",
   "metadata": {},
   "source": [
    "Decision tree regression is a type of algorithm in machine learning systems that uses decisions as the features to represent the result in the form of a tree-like structure. It is a common tool used to visually represent the decisions made by the algorithm.\n",
    "\n",
    "The results of fitting a decision tree algorithm to the bike data set are shown below.\n"
   ]
  },
  {
   "cell_type": "code",
   "execution_count": 211,
   "id": "2900511f",
   "metadata": {},
   "outputs": [
    {
     "data": {
      "text/plain": [
       "DecisionTreeRegressor(random_state=0)"
      ]
     },
     "execution_count": 211,
     "metadata": {},
     "output_type": "execute_result"
    }
   ],
   "source": [
    "from sklearn.tree import DecisionTreeRegressor\n",
    "regressor2 = DecisionTreeRegressor(random_state = 0)\n",
    "regressor2.fit(X_train, y_train)"
   ]
  },
  {
   "cell_type": "code",
   "execution_count": 212,
   "id": "fd5310cd",
   "metadata": {},
   "outputs": [
    {
     "name": "stdout",
     "output_type": "stream",
     "text": [
      "[[ 711.78   86.  ]\n",
      " [1074.7   565.  ]\n",
      " [ 678.01  457.  ]\n",
      " ...\n",
      " [ 705.7   227.  ]\n",
      " [ 796.48  193.  ]\n",
      " [ 843.12  600.  ]]\n"
     ]
    }
   ],
   "source": [
    "y_pred = regressor2.predict(X_test)\n",
    "print(np.concatenate((y_pred.reshape(len(y_pred),1), y_test.reshape(len(y_test),1)),1))"
   ]
  },
  {
   "cell_type": "code",
   "execution_count": 213,
   "id": "70186809",
   "metadata": {},
   "outputs": [
    {
     "data": {
      "text/plain": [
       "5010.38"
      ]
     },
     "execution_count": 213,
     "metadata": {},
     "output_type": "execute_result"
    }
   ],
   "source": [
    "rms = round(mean_squared_error(y_test, y_pred, squared=False),2)\n",
    "rms"
   ]
  },
  {
   "cell_type": "markdown",
   "id": "f9b59ae1",
   "metadata": {},
   "source": [
    "The value of root mean square error is 5010.38"
   ]
  },
  {
   "cell_type": "markdown",
   "id": "0403468b",
   "metadata": {},
   "source": [
    "**Random Forest regression**"
   ]
  },
  {
   "cell_type": "markdown",
   "id": "96668742",
   "metadata": {},
   "source": [
    "When multiple decision trees are used to predict the target variable, the algorithm is called a random forest regression algorithm. The number of trees can impact on the speed of the process of fitting the algorithm, therefore a relatively low number is chosen to avoid this complexity.\n",
    "\n",
    "The results of the random forest algorithm are shown below.\n"
   ]
  },
  {
   "cell_type": "code",
   "execution_count": 214,
   "id": "d46bf87f",
   "metadata": {},
   "outputs": [
    {
     "data": {
      "text/plain": [
       "RandomForestRegressor(n_estimators=10, random_state=0)"
      ]
     },
     "execution_count": 214,
     "metadata": {},
     "output_type": "execute_result"
    }
   ],
   "source": [
    "from sklearn.ensemble import RandomForestRegressor\n",
    "regressor3 = RandomForestRegressor(n_estimators = 10, random_state = 0)\n",
    "regressor3.fit(X_train, y_train)"
   ]
  },
  {
   "cell_type": "code",
   "execution_count": 215,
   "id": "7b8ad177",
   "metadata": {},
   "outputs": [
    {
     "name": "stdout",
     "output_type": "stream",
     "text": [
      "[[ 714.65   86.  ]\n",
      " [1111.38  565.  ]\n",
      " [ 683.03  457.  ]\n",
      " ...\n",
      " [ 709.68  227.  ]\n",
      " [ 830.89  193.  ]\n",
      " [ 855.01  600.  ]]\n"
     ]
    }
   ],
   "source": [
    "y_pred = regressor3.predict(X_test)\n",
    "print(np.concatenate((y_pred.reshape(len(y_pred),1), y_test.reshape(len(y_test),1)),1))"
   ]
  },
  {
   "cell_type": "code",
   "execution_count": 216,
   "id": "00e0e09f",
   "metadata": {},
   "outputs": [
    {
     "data": {
      "text/plain": [
       "4955.48"
      ]
     },
     "execution_count": 216,
     "metadata": {},
     "output_type": "execute_result"
    }
   ],
   "source": [
    "rms = round(mean_squared_error(y_test, y_pred, squared=False),2)\n",
    "rms"
   ]
  },
  {
   "cell_type": "markdown",
   "id": "e5a910d1",
   "metadata": {},
   "source": [
    "The value of root mean square error is 4955.48"
   ]
  },
  {
   "cell_type": "markdown",
   "id": "a6689ab5",
   "metadata": {},
   "source": [
    "## Conclusion and Reflection"
   ]
  },
  {
   "cell_type": "markdown",
   "id": "de64b60e",
   "metadata": {},
   "source": [
    "In this report, three machine learning systems were considered. All the three systems all predict a continuous variable and therefore they fall under the broader category of supervised methods and more in particular regression techniques.\n",
    "\n",
    "There are so many regression techniques that can help in predicting a continuous variable, however only three were considered in this report; multiple linear regression, decision tree regression and random forest regression.\n",
    "\n",
    "For this particular report, decision tree regression was performed. The data was first processed then split into two sets, the training and the test sets in order to evaluate the performance.\n",
    "\n",
    "To evaluate the performance of these systems, the RMSE performance metric was used. The lower the value of RMSE the better the model compared to other models/systems. The best model was found out to be the random forest regression model with an RMSE value of 4955.48.\n",
    "\n",
    "It has been observed that before building any machine learning system it’s prudent for one to familiarize themselves with the structure of the data set first. Knowing the structure of the data set helps in deciding which kind of system to implement. Unsupervised systems are best suited for situations where an understanding into the underlying structure is needed and relationships between variables is also needed. Methods like principal component analysis can help in such scenarios.\n",
    "\n",
    "A number of things can be made to improve the performance of this machine learning system, these include, model tuning to find the best parameters, increase the number of features used in model training and explore other regression techniques not covered here like the use of neural networks which can perform well in the settings of big data."
   ]
  }
 ],
 "metadata": {
  "kernelspec": {
   "display_name": "Python 3 (ipykernel)",
   "language": "python",
   "name": "python3"
  },
  "language_info": {
   "codemirror_mode": {
    "name": "ipython",
    "version": 3
   },
   "file_extension": ".py",
   "mimetype": "text/x-python",
   "name": "python",
   "nbconvert_exporter": "python",
   "pygments_lexer": "ipython3",
   "version": "3.9.16"
  }
 },
 "nbformat": 4,
 "nbformat_minor": 5
}
